{
 "cells": [
  {
   "cell_type": "markdown",
   "id": "33b7ce6b-39dd-40da-bef5-9c1ee99c015f",
   "metadata": {},
   "source": [
    "Data Science Tools and Ecosystem"
   ]
  },
  {
   "cell_type": "markdown",
   "id": "29945d3a-4d07-44fd-8c44-696f8310c863",
   "metadata": {},
   "source": [
    "In this notebook, Data Science Tools and Ecosystem are summarized."
   ]
  },
  {
   "cell_type": "markdown",
   "id": "48ab1bca-6cdc-4732-a6b7-ffde25e3ffba",
   "metadata": {},
   "source": [
    "Some of the popular languages that Data Scientists use are:"
   ]
  },
  {
   "cell_type": "markdown",
   "id": "a9084e95-63d2-42cc-acdf-38d083b8cd8d",
   "metadata": {},
   "source": [
    "Python\n",
    "R\n",
    "SQL\n",
    "C++"
   ]
  },
  {
   "cell_type": "markdown",
   "id": "52695fed-b3ab-450c-b6d0-ae775683a866",
   "metadata": {},
   "source": [
    "Some of the commonly used libraries used by Data Scientists include:\n",
    "Matplotlib\n",
    "scipy\n",
    "Sklearn\n"
   ]
  },
  {
   "cell_type": "markdown",
   "id": "6d77b1bc-c37f-4135-b350-4164b248c349",
   "metadata": {},
   "source": [
    "Data Science Tools:\n",
    "Pycharm\n",
    "Anaconda\n",
    "Jupyter\n",
    "google collab\n"
   ]
  },
  {
   "cell_type": "markdown",
   "id": "8dbb3200-f9d6-44c9-9635-91ecea5f28a6",
   "metadata": {},
   "source": [
    "Below are a few examples of evaluating arithmetic expressions in Python:"
   ]
  },
  {
   "cell_type": "code",
   "execution_count": 1,
   "id": "264e7f30-5935-4b8a-98c6-d3fafb66e624",
   "metadata": {},
   "outputs": [
    {
     "data": {
      "text/plain": [
       "5"
      ]
     },
     "execution_count": 1,
     "metadata": {},
     "output_type": "execute_result"
    }
   ],
   "source": [
    "2+3"
   ]
  },
  {
   "cell_type": "markdown",
   "id": "45e3bb34-74fc-42b8-8c67-91f86e435384",
   "metadata": {},
   "source": [
    "This a simple arithmetic expression to mutiply then add integers."
   ]
  },
  {
   "cell_type": "code",
   "execution_count": 10,
   "id": "8e19c720-e9c9-4f11-b5fd-1c56ccf75d79",
   "metadata": {},
   "outputs": [
    {
     "data": {
      "text/plain": [
       "17"
      ]
     },
     "execution_count": 10,
     "metadata": {},
     "output_type": "execute_result"
    }
   ],
   "source": [
    "(3*4)+5\n"
   ]
  },
  {
   "cell_type": "markdown",
   "id": "acf53aa6-0cb0-433f-a224-b72122d38c0a",
   "metadata": {},
   "source": [
    "In this code cell write an expression that converts"
   ]
  },
  {
   "cell_type": "code",
   "execution_count": 26,
   "id": "087798cd-010d-462a-8a75-d62c6fb1433e",
   "metadata": {},
   "outputs": [
    {
     "name": "stdout",
     "output_type": "stream",
     "text": [
      "200 minutes = 3.3333333333333335 hour\n"
     ]
    }
   ],
   "source": [
    "#convert minutes to hours:\n",
    "m = 200\n",
    "h = m/60\n",
    "print('200 minutes =',h,'hour')"
   ]
  },
  {
   "cell_type": "raw",
   "id": "6a7fca37-9731-486e-8be7-cdd04d001ce8",
   "metadata": {},
   "source": [
    "objectives:\n",
    ". Python\n",
    ". R\n",
    ". SQL"
   ]
  },
  {
   "cell_type": "code",
   "execution_count": null,
   "id": "686d93a7-36aa-4278-b4f8-c523604b2a52",
   "metadata": {},
   "outputs": [],
   "source": [
    "Duy"
   ]
  }
 ],
 "metadata": {
  "kernelspec": {
   "display_name": "Python 3 (ipykernel)",
   "language": "python",
   "name": "python3"
  },
  "language_info": {
   "codemirror_mode": {
    "name": "ipython",
    "version": 3
   },
   "file_extension": ".py",
   "mimetype": "text/x-python",
   "name": "python",
   "nbconvert_exporter": "python",
   "pygments_lexer": "ipython3",
   "version": "3.12.4"
  }
 },
 "nbformat": 4,
 "nbformat_minor": 5
}
